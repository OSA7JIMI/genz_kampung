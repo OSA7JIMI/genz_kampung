{
 "cells": [
  {
   "cell_type": "markdown",
   "id": "c506a8cd-dade-4c29-80e1-72c3e00bc020",
   "metadata": {},
   "source": [
    "# This notebook was run for r/SGExams and r/teenagers\n",
    "Change the variable below as needed"
   ]
  },
  {
   "cell_type": "code",
   "execution_count": null,
   "id": "878de6a1-49f2-45e4-be97-5c4dd542cd49",
   "metadata": {},
   "outputs": [],
   "source": [
    "sub = \"sgexams\""
   ]
  },
  {
   "cell_type": "markdown",
   "id": "eb539959-af56-4ae6-9e70-4c1a5a456b40",
   "metadata": {},
   "source": [
    "# Identifying Active Users"
   ]
  },
  {
   "cell_type": "markdown",
   "id": "e4d083e6-a8ce-4f3f-a763-f42c63b6b50f",
   "metadata": {},
   "source": [
    "## Import necessary libraries and initialize Reddit object with Reddit developer credentials"
   ]
  },
  {
   "cell_type": "code",
   "execution_count": null,
   "id": "20f3d357-dda6-45db-9af2-efd227a42870",
   "metadata": {},
   "outputs": [],
   "source": [
    "import pandas as pd\n",
    "import praw\n",
    "\n",
    "# Enter your credentials here\n",
    "reddit = praw.Reddit(\n",
    "    client_id = \"my-client-id\",\n",
    "    client_secret = \"my-client-secret\",\n",
    "    password = \"my-password\",\n",
    "    user_agent = \"my-user-agent\",\n",
    "    username = \"my-username\",\n",
    ")"
   ]
  },
  {
   "cell_type": "markdown",
   "id": "ffc02458-0245-405e-b430-709595279f42",
   "metadata": {},
   "source": [
    "## Load datasets saved from get_reddit_data.ipynb"
   ]
  },
  {
   "cell_type": "code",
   "execution_count": null,
   "id": "63b9c725-903d-4c5e-bab7-fc8628327913",
   "metadata": {},
   "outputs": [],
   "source": [
    "post_df = pd.read_csv(\"Datasets/\"+ sub + \"_posts.csv\")\n",
    "comment_df = pd.read_csv(\"Datasets/\"+ sub + \"_comments.csv\")"
   ]
  },
  {
   "cell_type": "markdown",
   "id": "7612b90b-f261-4b9f-a27f-ab21cd2fd2a1",
   "metadata": {},
   "source": [
    "## Get attributes of each user:\n",
    "- Username\n",
    "- Number of posts/comments made in the chosen subreddit\n",
    "- UNIX time of first post/comment\n",
    "- UNIX time of last post/comment\n",
    "- Number of months between first and last post/comment\n",
    "- Mean number of posts/comments per month"
   ]
  },
  {
   "cell_type": "code",
   "execution_count": null,
   "id": "3240a5bd-8e7b-4c4f-97c9-e122771b9241",
   "metadata": {},
   "outputs": [],
   "source": [
    "grouped = post_df.groupby('author')\n",
    "poster_activity['name'] = [name for name,unused_df in grouped]\n",
    "poster_activity['num_posts'] = list(grouped.count()['body'])\n",
    "poster_activity['first'] = list(grouped.min()['created_utc'])\n",
    "poster_activity['last'] = list(grouped.max()['created_utc'])\n",
    "poster_activity['range_in_months'] = poster_activity['last'] - poster_activity['first'] /2628000 # number of seconds in a month\n",
    "poster_activity['posts_per_month'] = poster_activity['num_posts'] / poster_activity['range_in_months'] \n",
    "\n",
    "active_posters = poster_activity[poster_activity['posts_per_month'] >= 5]"
   ]
  },
  {
   "cell_type": "code",
   "execution_count": null,
   "id": "2dd6b581-86e6-496c-9fbc-00799e3eb162",
   "metadata": {},
   "outputs": [],
   "source": [
    "grouped = comment_df.groupby('author')\n",
    "commenter_activity['name'] = [name for name,unused_df in grouped]\n",
    "commenter_activity['num_comments'] = list(grouped.count()['body'])\n",
    "commenter_activity['first'] = list(grouped.min()['created_utc'])\n",
    "commenter_activity['last'] = list(grouped.max()['created_utc'])\n",
    "commenter_activity['range_in_months'] = commenter_activity['last'] - commenter_activity['first'] /2628000 # number of seconds in a month\n",
    "commenter_activity['comments_per_month'] = commenter_activity['num_comments'] / commenter_activity['range_in_months'] \n",
    "\n",
    "active_commenters = commenter_activity.loc[(commenter_activity['comments_per_month'] >= 10) & (commenter_activity['range_in_months'] >= 12)]"
   ]
  },
  {
   "cell_type": "markdown",
   "id": "1c6d7145-acbf-46bb-93b5-7e41457256fe",
   "metadata": {},
   "source": [
    "# Collecting Activity Datasets\n",
    "Repeat the whole process for commenters by replacing active_posters with active_commenters"
   ]
  },
  {
   "cell_type": "code",
   "execution_count": null,
   "id": "7742b6de-ee1b-419f-8669-a4a8b4261725",
   "metadata": {},
   "outputs": [],
   "source": [
    "post_data = []\n",
    "comment_data = []\n",
    "failed = []\n",
    "\n",
    "for name in active_posters['name']: \n",
    "    user = reddit.redditor(name)\n",
    "    \n",
    "    try:\n",
    "        for post in user.submissions.top(limit=1000):\n",
    "            post_data.append({\n",
    "                'id': post.name, 'title': post.title,\n",
    "                'body': post.selftext, 'created_utc': post.created_utc,\n",
    "                'author': name,\n",
    "                'score': post.score, 'subreddit': post.subreddit\n",
    "            })\n",
    "            \n",
    "    except:\n",
    "        failed.append(name)\n",
    "        continue\n",
    "\n",
    "    try:\n",
    "        for comment in user.comments.top(limit=1000):\n",
    "            comment_data.append({\n",
    "                'id': comment.name, 'parent_id': comment.parent_id,\n",
    "                'body': comment.body, 'link_id': comment.link_id, 'created_utc': comment.created_utc,\n",
    "                'author': name,\n",
    "                'score': comment.score, 'subreddit': comment.subreddit\n",
    "            })\n",
    "    except:\n",
    "        failed.append(name)\n",
    "        continue\n",
    "\n",
    "post_df = pd.DataFrame(post_data)\n",
    "comment_df = pd.DataFrame(comment_data)\n",
    "\n",
    "# Array \"failed\" contains usernames of users who have deleted their accounts\n",
    "print(failed)"
   ]
  },
  {
   "cell_type": "markdown",
   "id": "f3b37753-7fad-4fd2-941a-5e42a9be42e7",
   "metadata": {},
   "source": [
    "### Concatenate the titles and body text of posts and combine post and comment datasets into one activity dataset"
   ]
  },
  {
   "cell_type": "code",
   "execution_count": null,
   "id": "123af2a0-7b5f-40f4-b290-d3eb9163cea6",
   "metadata": {},
   "outputs": [],
   "source": [
    "post_df['body'] = post_df['title'] + ' ### ' + post_df['body']\n",
    "posts = pd.DataFrame(post_df[['id', 'body', 'created_utc', 'author', 'subreddit']])\n",
    "comments = pd.DataFrame(comment_df[['id', 'body', 'created_utc', 'author', 'subreddit']])\n",
    "activity = pd.concat([posts, comments], axis=0)"
   ]
  },
  {
   "cell_type": "code",
   "execution_count": null,
   "id": "725df4a1-23ff-4c64-b9e4-8402c7dce9d4",
   "metadata": {},
   "outputs": [],
   "source": [
    "activity.to_csv(\"Datasets/Cleaned/\"+ sub + \"_posters_activity.csv\", index = False)"
   ]
  },
  {
   "cell_type": "code",
   "execution_count": null,
   "id": "8cb15adb-e9eb-4849-ad81-8ffcf98b0b60",
   "metadata": {},
   "outputs": [],
   "source": [
    "activity.to_csv(\"Datasets/Cleaned/\"+ sub + \"_commenters_activity.csv\", index = False)"
   ]
  }
 ],
 "metadata": {
  "kernelspec": {
   "display_name": "Python 3 (ipykernel)",
   "language": "python",
   "name": "python3"
  },
  "language_info": {
   "codemirror_mode": {
    "name": "ipython",
    "version": 3
   },
   "file_extension": ".py",
   "mimetype": "text/x-python",
   "name": "python",
   "nbconvert_exporter": "python",
   "pygments_lexer": "ipython3",
   "version": "3.11.9"
  }
 },
 "nbformat": 4,
 "nbformat_minor": 5
}
