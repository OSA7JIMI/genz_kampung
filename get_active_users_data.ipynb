{
 "cells": [
  {
   "cell_type": "markdown",
   "id": "eb539959-af56-4ae6-9e70-4c1a5a456b40",
   "metadata": {},
   "source": [
    "# Identifying Active Users"
   ]
  },
  {
   "cell_type": "markdown",
   "id": "e4d083e6-a8ce-4f3f-a763-f42c63b6b50f",
   "metadata": {},
   "source": [
    "## Import necessary libraries and initialize Reddit object with Reddit developer credentials"
   ]
  },
  {
   "cell_type": "code",
   "execution_count": null,
   "id": "20f3d357-dda6-45db-9af2-efd227a42870",
   "metadata": {},
   "outputs": [],
   "source": [
    "import pandas as pd\n",
    "import praw\n",
    "\n",
    "# Enter your credentials here\n",
    "reddit = praw.Reddit(\n",
    "    client_id = \"my-client-id\",\n",
    "    client_secret = \"my-client-secret\",\n",
    "    password = \"my-password\",\n",
    "    user_agent = \"my-user-agent\",\n",
    "    username = \"my-username\",\n",
    ")"
   ]
  },
  {
   "cell_type": "code",
   "execution_count": null,
   "id": "63b9c725-903d-4c5e-bab7-fc8628327913",
   "metadata": {},
   "outputs": [],
   "source": [
    "post_df = pd.read_csv(\"Datasets/sgexams_posts.csv\")\n",
    "comment_df = pd.read_csv(\"Datasets/sgexams_comments.csv\")"
   ]
  },
  {
   "cell_type": "code",
   "execution_count": null,
   "id": "3240a5bd-8e7b-4c4f-97c9-e122771b9241",
   "metadata": {},
   "outputs": [],
   "source": [
    "grouped = post_df.groupby('author')\n",
    "poster_activity['name'] = grouped.groups.keys()\n",
    "poster_activity['posts'] = list(grouped.count()['body'])\n",
    "poster_activity['first'] = list(grouped.min()['created_utc'])\n",
    "poster_activity['last'] = list(grouped.max()['created_utc'])\n",
    "poster_activity['range_in_months'] = poster_activity['last'] - poster_activity['first'] /2628000 # number of seconds in a month\n",
    "poster_activity['posts_per_month'] = poster_activity['posts'] / poster_activity['range_in_months'] \n",
    "\n",
    "active_posters = poster_activity[poster_activity['posts_per_month'] >= 5]"
   ]
  },
  {
   "cell_type": "code",
   "execution_count": null,
   "id": "2dd6b581-86e6-496c-9fbc-00799e3eb162",
   "metadata": {},
   "outputs": [],
   "source": [
    "grouped = comment_df.groupby('author')\n",
    "commenter_activity['name'] = grouped.groups.keys()\n",
    "commenter_activity['comments'] = list(grouped.count()['body'])\n",
    "commenter_activity['first'] = list(grouped.min()['created_utc'])\n",
    "commenter_activity['last'] = list(grouped.max()['created_utc'])\n",
    "commenter_activity['range_in_months'] = commenter_activity['last'] - commenter_activity['first'] /2628000 # number of seconds in a month\n",
    "commenter_activity['comments_per_month'] = commenter_activity['comments'] / commenter_activity['range_in_months'] \n",
    "\n",
    "active_commenters = commenter_activity.loc[(commenter_activity['comments_per_month'] >= 10) & (commenter_activity['range_in_months'] >= 12)]"
   ]
  },
  {
   "cell_type": "markdown",
   "id": "1c6d7145-acbf-46bb-93b5-7e41457256fe",
   "metadata": {},
   "source": [
    "# Collecting Activity Datasets"
   ]
  },
  {
   "cell_type": "code",
   "execution_count": null,
   "id": "7742b6de-ee1b-419f-8669-a4a8b4261725",
   "metadata": {},
   "outputs": [],
   "source": [
    "post_data = []\n",
    "comment_data = []\n",
    "failed = []\n",
    "\n",
    "for name in active_posters['name']:\n",
    "    user = reddit.redditor(name)\n",
    "    \n",
    "    try:\n",
    "        for post in user.submissions.top(limit=1000):\n",
    "            post_data.append({\n",
    "                'id': post.name, 'title': post.title,\n",
    "                'body': post.selftext, 'created_utc': post.created_utc,\n",
    "                'author': name,\n",
    "                'score': post.score, 'subreddit': post.subreddit\n",
    "            })\n",
    "            \n",
    "    except:\n",
    "        failed.append(name)\n",
    "        continue\n",
    "\n",
    "    try:\n",
    "        for comment in user.comments.top(limit=1000):\n",
    "            comment_data.append({\n",
    "                'id': comment.name, 'parent_id': comment.parent_id,\n",
    "                'body': comment.body, 'link_id': comment.link_id, 'created_utc': comment.created_utc,\n",
    "                'author': name,\n",
    "                'score': comment.score, 'subreddit': comment.subreddit\n",
    "            })\n",
    "    except:\n",
    "        failed.append(name)\n",
    "        continue\n",
    "\n",
    "post_df = pd.DataFrame(post_data)\n",
    "comment_df = pd.DataFrame(comment_data)\n",
    "\n",
    "post_df['body'] = post_df['title'] + ' ### ' + post_df['body']\n",
    "posts = pd.DataFrame(post_df[['id', 'body', 'created_utc', 'author', 'subreddit']])\n",
    "comments = pd.DataFrame(comment_df[['id', 'body', 'created_utc', 'author', 'subreddit']])\n",
    "alls = pd.concat([posts, comments], axis=0)\n",
    "alls.to_csv('Datasets/Cleaned/SGposters_all.csv')"
   ]
  },
  {
   "cell_type": "markdown",
   "id": "5d8e6516-576a-47c9-8f5f-a3d9738052d5",
   "metadata": {},
   "source": [
    "### Array \"failed\" contains usernames of users who have deleted their accounts or all their activity"
   ]
  },
  {
   "cell_type": "code",
   "execution_count": null,
   "id": "44f604de-817d-4ab0-9c67-36742d52a7b8",
   "metadata": {},
   "outputs": [],
   "source": [
    "print(failed)"
   ]
  },
  {
   "cell_type": "code",
   "execution_count": null,
   "id": "1f9ab82f-2677-461a-a8fe-66bef299c549",
   "metadata": {},
   "outputs": [],
   "source": [
    "post_data = []\n",
    "comment_data = []\n",
    "failed = []\n",
    "\n",
    "for name in active_commenters['name']:\n",
    "    user = reddit.redditor(name)\n",
    "    \n",
    "    try:\n",
    "        for post in user.submissions.top(limit=1000):\n",
    "            post_data.append({\n",
    "                'id': post.name, 'title': post.title,\n",
    "                'body': post.selftext, 'created_utc': post.created_utc,\n",
    "                'author': name,\n",
    "                'score': post.score, 'subreddit': post.subreddit\n",
    "            })\n",
    "            \n",
    "    except:\n",
    "        failed.append(name)\n",
    "        continue\n",
    "\n",
    "    try:\n",
    "        for comment in user.comments.top(limit=1000):\n",
    "            comment_data.append({\n",
    "                'id': comment.name, 'parent_id': comment.parent_id,\n",
    "                'body': comment.body, 'link_id': comment.link_id, 'created_utc': comment.created_utc,\n",
    "                'author': name,\n",
    "                'score': comment.score, 'subreddit': comment.subreddit\n",
    "            })\n",
    "    except:\n",
    "        failed.append(name)\n",
    "        continue\n",
    "\n",
    "post_df = pd.DataFrame(post_data)\n",
    "comment_df = pd.DataFrame(comment_data)\n",
    "\n",
    "post_df['body'] = post_df['title'] + ' ### ' + post_df['body']\n",
    "posts = pd.DataFrame(post_df[['id', 'body', 'created_utc', 'author', 'subreddit']])\n",
    "comments = pd.DataFrame(comment_df[['id', 'body', 'created_utc', 'author', 'subreddit']])\n",
    "alls = pd.concat([posts, comments], axis=0)\n",
    "alls.to_csv('Datasets/Cleaned/SGcommenters_all.csv')"
   ]
  },
  {
   "cell_type": "code",
   "execution_count": null,
   "id": "1dc602b5-42d5-4149-baa8-6e2ce51414ab",
   "metadata": {},
   "outputs": [],
   "source": [
    "print(failed)"
   ]
  }
 ],
 "metadata": {
  "kernelspec": {
   "display_name": "Python 3 (ipykernel)",
   "language": "python",
   "name": "python3"
  },
  "language_info": {
   "codemirror_mode": {
    "name": "ipython",
    "version": 3
   },
   "file_extension": ".py",
   "mimetype": "text/x-python",
   "name": "python",
   "nbconvert_exporter": "python",
   "pygments_lexer": "ipython3",
   "version": "3.11.9"
  }
 },
 "nbformat": 4,
 "nbformat_minor": 5
}
