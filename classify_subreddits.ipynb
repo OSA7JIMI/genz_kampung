{
 "cells": [
  {
   "cell_type": "markdown",
   "id": "365673a2-958c-4e38-98e3-58f1cb286ad5",
   "metadata": {},
   "source": [
    "# Subreddit Classification"
   ]
  },
  {
   "cell_type": "markdown",
   "id": "ba4d52cc-72f1-4ef4-9f79-d1c222a42146",
   "metadata": {},
   "source": [
    "## Import necessary libraries and initialize Reddit object with Reddit developer credentials"
   ]
  },
  {
   "cell_type": "code",
   "execution_count": null,
   "id": "d4c0fa4d-a4b8-41e0-86be-ba2631b22fd5",
   "metadata": {},
   "outputs": [],
   "source": [
    "import pandas as pd\n",
    "import praw\n",
    "\n",
    "# Enter your credentials here\n",
    "reddit = praw.Reddit(\n",
    "    client_id = \"my-client-id\",\n",
    "    client_secret = \"my-client-secret\",\n",
    "    password = \"my-password\",\n",
    "    user_agent = \"my-user-agent\",\n",
    "    username = \"my-username\",\n",
    ")"
   ]
  },
  {
   "cell_type": "markdown",
   "id": "c2575d24-a386-4e9b-8fba-327206a57f3e",
   "metadata": {},
   "source": [
    "## Load datasets saved from get_active_users_data.ipynb "
   ]
  },
  {
   "cell_type": "code",
   "execution_count": null,
   "id": "7574171b-7f13-492e-91e3-46e1d63a548b",
   "metadata": {},
   "outputs": [],
   "source": [
    "# Change subreddit name as needed\n",
    "sub = \"sgexams\"\n",
    "\n",
    "post_df = pd.read_csv(\"Datasets/Cleaned\"+ sub + \"_posters_activity.csv\")\n",
    "comment_df = pd.read_csv(\"Datasets/Cleaned\"+ sub + \"_commenters_activity.csv\")"
   ]
  },
  {
   "cell_type": "code",
   "execution_count": null,
   "id": "1d305fcf-f0d5-4f06-9c2c-e03255c45262",
   "metadata": {},
   "outputs": [],
   "source": [
    "subreddits = set([post_df['subreddit'].unique()] + [comment_df['subreddit'].unique()])"
   ]
  },
  {
   "cell_type": "code",
   "execution_count": null,
   "id": "1a9b0d97-bd5a-47b6-9629-79ac68b1903c",
   "metadata": {},
   "outputs": [],
   "source": [
    "# Change subreddit name as needed\n",
    "sub = \"teenagers\"\n",
    "\n",
    "post_df = pd.read_csv(\"Datasets/Cleaned\"+ sub + \"_posters_activity.csv\")\n",
    "comment_df = pd.read_csv(\"Datasets/Cleaned\"+ sub + \"_commenters_activity.csv\")"
   ]
  },
  {
   "cell_type": "code",
   "execution_count": null,
   "id": "a1f8ce83-dbe3-43e5-a3bb-40c359835a87",
   "metadata": {},
   "outputs": [],
   "source": [
    "temp = set([post_df['subreddit'].unique()] + [comment_df['subreddit'].unique()])\n",
    "subreddits = list(subreddits.union(temp))"
   ]
  },
  {
   "cell_type": "markdown",
   "id": "c42809aa-b4df-44fa-865a-d29febfbe3b5",
   "metadata": {},
   "source": [
    "## Get subreddit descriptions and use PRAW over18 attribute to identify NSFW subreddits"
   ]
  },
  {
   "cell_type": "code",
   "execution_count": null,
   "id": "6b82cb70-63cc-4379-97d2-547fe32619f9",
   "metadata": {},
   "outputs": [],
   "source": [
    "descriptions = []\n",
    "topics = []\n",
    "\n",
    "for sub in subreddits:\n",
    "    s = reddit.subreddit(sub)\n",
    "    descriptions.append(s.public_description)\n",
    "    \n",
    "    try:\n",
    "        if s.over18:\n",
    "            topics.append('NSFW')\n",
    "        else: \n",
    "            topics.append('?') # use ? to indicate the subreddit requires classification\n",
    "    except:\n",
    "        topics.append('?')"
   ]
  },
  {
   "cell_type": "code",
   "execution_count": null,
   "id": "ec8d5b3b-445f-4b77-859d-123a60f113b1",
   "metadata": {},
   "outputs": [],
   "source": [
    "subs = pd.DataFrame()\n",
    "subs['subreddit'] = subreddits\n",
    "subs['topic'] = topics\n",
    "subs['description'] = descriptions"
   ]
  },
  {
   "cell_type": "markdown",
   "id": "63624c41-ddc5-40d9-a5ad-80460769ce9b",
   "metadata": {},
   "source": [
    "## Save to csv so manual classification can be done in Excel\n",
    "Remember to leave some of them as '?' for the model to classify :)"
   ]
  },
  {
   "cell_type": "code",
   "execution_count": null,
   "id": "e9df14ae-3469-4365-adf5-4af672a5befa",
   "metadata": {},
   "outputs": [],
   "source": [
    "subs.to_csv('subreddits.csv', index = False) "
   ]
  },
  {
   "cell_type": "markdown",
   "id": "0074bfb2-82b6-4755-a18d-c74c4fdab307",
   "metadata": {},
   "source": [
    "## Load the dataframe back after classifying some subreddits   \n",
    "The original classifications are available in the native repository as manual_subreddits.csv"
   ]
  },
  {
   "cell_type": "code",
   "execution_count": null,
   "id": "d2a7bb47-7772-47f7-8e6e-4054fa1ad97d",
   "metadata": {},
   "outputs": [],
   "source": [
    "subs = pd.read_csv('subreddits.csv') "
   ]
  },
  {
   "cell_type": "markdown",
   "id": "1fa5ed0b-5301-44d1-b04c-61d21a8f6f45",
   "metadata": {},
   "source": [
    "## Concatenate subreddit name to description\n",
    "This was added after reflecting on the research process "
   ]
  },
  {
   "cell_type": "code",
   "execution_count": null,
   "id": "ec796246-5251-4069-a4be-94af682ffd7a",
   "metadata": {},
   "outputs": [],
   "source": [
    "sub['description'] = sub['subreddit'] + ' ' + sub['description']"
   ]
  },
  {
   "cell_type": "markdown",
   "id": "571aaaee-de7c-4fbf-97b2-6d5cd5ef5ada",
   "metadata": {},
   "source": [
    "## Seperate the manually classified subreddits and the subreddits to be classified by the model"
   ]
  },
  {
   "cell_type": "code",
   "execution_count": null,
   "id": "1f321a50-aab4-49c4-94c2-1618c759b5e1",
   "metadata": {},
   "outputs": [],
   "source": [
    "manual = subs.loc[(subs['topic'] != 'NSFW') | (subs['topic'] != '?')]\n",
    "manual = manual.dropna()\n",
    "manual = manual[manual['description'].str.len()>50]\n",
    "\n",
    "nsfw = subs[subs['topic'] == 'NSFW']\n",
    "tbc = subs[subs['topic'] == '?']"
   ]
  },
  {
   "cell_type": "markdown",
   "id": "9a02785f-3410-47e9-b6b6-9bcd78b0c61d",
   "metadata": {},
   "source": [
    "## Import BERT and embed subreddit descriptions "
   ]
  },
  {
   "cell_type": "code",
   "execution_count": null,
   "id": "6c5afab1-52e6-4411-a26b-528274811d3f",
   "metadata": {},
   "outputs": [],
   "source": [
    "from sentence_transformers import SentenceTransformer\n",
    "model = SentenceTransformer('all-MiniLM-L6-v2')"
   ]
  },
  {
   "cell_type": "code",
   "execution_count": null,
   "id": "9bcb616d-7e68-4a6d-881a-a5cbbedaac80",
   "metadata": {},
   "outputs": [],
   "source": [
    "sentences = list(manual['description'])\n",
    "embeddings = model.encode(sentences)\n",
    "train_descriptions = pd.DataFrame(embeddings)"
   ]
  },
  {
   "cell_type": "code",
   "execution_count": null,
   "id": "0c21db56-32de-4c89-88e6-eab3c630fec0",
   "metadata": {},
   "outputs": [],
   "source": [
    "train_descriptions['subreddit'] = list(manual['subreddit'])\n",
    "train_descriptions['topic'] = list(manual['topic'])"
   ]
  },
  {
   "cell_type": "code",
   "execution_count": null,
   "id": "795a7e3f-823c-45cc-9788-0c5bdcc2196b",
   "metadata": {},
   "outputs": [],
   "source": [
    "train_descriptions.to_csv('train_descriptions.csv', index = False)"
   ]
  },
  {
   "cell_type": "code",
   "execution_count": null,
   "id": "f733d9fb",
   "metadata": {},
   "outputs": [],
   "source": [
    "sentences = list(tbc['description'])\n",
    "embeddings = model.encode(sentences)\n",
    "goal_descriptions = pd.DataFrame(embeddings)"
   ]
  },
  {
   "cell_type": "code",
   "execution_count": null,
   "id": "f2d46db9",
   "metadata": {},
   "outputs": [],
   "source": [
    "goal_descriptions['subreddit'] = list(tbc['subreddit'])"
   ]
  },
  {
   "cell_type": "code",
   "execution_count": null,
   "id": "3fad6200",
   "metadata": {},
   "outputs": [],
   "source": [
    "goal_descriptions.to_csv('goal_descriptions.csv', index = False)"
   ]
  },
  {
   "cell_type": "markdown",
   "id": "240587d5-8610-490e-80cb-8bb6bb161ce0",
   "metadata": {},
   "source": [
    "## Import pycaret and set up classification model environment"
   ]
  },
  {
   "cell_type": "code",
   "execution_count": null,
   "id": "83433758-b2fc-43dd-b611-6c3274758c83",
   "metadata": {},
   "outputs": [],
   "source": [
    "from pycaret.classification import *\n",
    "s = setup(train_descriptions.drop('subreddit', axis =1), target = 'topic')"
   ]
  },
  {
   "cell_type": "markdown",
   "id": "2f0de985-3b25-4f72-967f-8c140cacf5c9",
   "metadata": {},
   "source": [
    "## Train models and print a comparison grid of performance metrics\n",
    "The excluded models took very long to run in the first couple of iterations and consistently returned terrible performance"
   ]
  },
  {
   "cell_type": "code",
   "execution_count": null,
   "id": "c92e401a-3748-49e7-9686-094a607c564d",
   "metadata": {},
   "outputs": [],
   "source": [
    "models = compare_models(n_select = 3, exclude = ['gbc', 'lightgbm', 'ada', 'qda'], sort = 'F1')"
   ]
  },
  {
   "cell_type": "markdown",
   "id": "836aa409-df50-49a9-8f8f-a2c34b080172",
   "metadata": {},
   "source": [
    "## Tune the hyperparameters of the 3 best performing models"
   ]
  },
  {
   "cell_type": "code",
   "execution_count": null,
   "id": "51418a5b-768d-4755-a795-d780a95217d2",
   "metadata": {},
   "outputs": [],
   "source": [
    "for i in range(len(models)):\n",
    "    models[i] = tune_model(models[i])"
   ]
  },
  {
   "cell_type": "markdown",
   "id": "cbddb54c-4a8b-478f-929b-c23c9b444689",
   "metadata": {},
   "source": [
    "## View confusion matrices for each tuned model and choose the best one\n",
    "Linear discriminant analysis (LDA) was chosen for its strong performance across 15 out of 19 classes"
   ]
  },
  {
   "cell_type": "code",
   "execution_count": null,
   "id": "d3ab47ba-c273-4ec8-b6d4-ea314873c169",
   "metadata": {},
   "outputs": [],
   "source": [
    "evaluate_model(models[0])"
   ]
  },
  {
   "cell_type": "code",
   "execution_count": null,
   "id": "e7fae40b",
   "metadata": {},
   "outputs": [],
   "source": [
    "evaluate_model(models[1])"
   ]
  },
  {
   "cell_type": "code",
   "execution_count": null,
   "id": "b6c405bf",
   "metadata": {},
   "outputs": [],
   "source": [
    "evaluate_model(models[2])"
   ]
  },
  {
   "cell_type": "markdown",
   "id": "ea696197-4f8e-4bf0-9521-757500228c53",
   "metadata": {},
   "source": [
    "## Finalize and save the chosen model"
   ]
  },
  {
   "cell_type": "code",
   "execution_count": null,
   "id": "582d2f0f-9bc6-4134-8e70-d0c40426fdd6",
   "metadata": {},
   "outputs": [],
   "source": [
    "final_model = finalize_model(models[0]) # change index number to your chosen model\n",
    "save_model(final_model, 'final_lda_description') # change model file name as desired"
   ]
  },
  {
   "cell_type": "markdown",
   "id": "155e28a9-81e9-4cb6-8830-270cfa166d76",
   "metadata": {},
   "source": [
    "## Use the finalized model to classify the unclassified subreddits"
   ]
  },
  {
   "cell_type": "code",
   "execution_count": null,
   "id": "8a979429-4942-4b30-b848-bd675198221a",
   "metadata": {},
   "outputs": [],
   "source": [
    "prediction = predict_model(final_model, data = goal_descriptions.drop(columns = 'subreddit')"
   ]
  },
  {
   "cell_type": "code",
   "execution_count": null,
   "id": "2a394e4e-fb3c-45d6-a050-edf2ce93f916",
   "metadata": {},
   "outputs": [],
   "source": [
    "tbc['topic'] = list(prediction['prediction_label'])\n",
    "tbc['confidence'] = list(prediction['prediction_score'])"
   ]
  },
  {
   "cell_type": "markdown",
   "id": "701e1668-0479-4bb6-b99d-bb6e01650507",
   "metadata": {},
   "source": [
    "## Inspect predictions with low confidence scores\n",
    "Manually classify later if needed"
   ]
  },
  {
   "cell_type": "code",
   "execution_count": null,
   "id": "083eaa7f-a975-4154-aa57-626c630dd208",
   "metadata": {},
   "outputs": [],
   "source": [
    "min_confidence = 0.5\n",
    "tbc[tbc['confidence'] < min_confidence]"
   ]
  },
  {
   "cell_type": "markdown",
   "id": "16690b48-ab95-4257-ad94-d75e9f3ae5ad",
   "metadata": {},
   "source": [
    "## Save the dataframe with all subreddits classified"
   ]
  },
  {
   "cell_type": "code",
   "execution_count": null,
   "id": "6740b876-94ef-4f6b-a753-cc5d9997bd1c",
   "metadata": {},
   "outputs": [],
   "source": [
    "subs = pd.concat([manual, tbc.drop(columns = 'confidence'), nsfw], axis = 0)\n",
    "subs.to_csv('subreddits.csv', index = False) "
   ]
  }
 ],
 "metadata": {
  "kernelspec": {
   "display_name": "Python 3 (ipykernel)",
   "language": "python",
   "name": "python3"
  },
  "language_info": {
   "codemirror_mode": {
    "name": "ipython",
    "version": 3
   },
   "file_extension": ".py",
   "mimetype": "text/x-python",
   "name": "python",
   "nbconvert_exporter": "python",
   "pygments_lexer": "ipython3",
   "version": "3.11.9"
  }
 },
 "nbformat": 4,
 "nbformat_minor": 5
}
