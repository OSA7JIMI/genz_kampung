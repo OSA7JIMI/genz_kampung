{
 "cells": [
  {
   "cell_type": "markdown",
   "id": "2b73fdfc-9188-49f4-a155-7d6a304e8bab",
   "metadata": {},
   "source": [
    "# Initial Data Collection"
   ]
  },
  {
   "cell_type": "markdown",
   "id": "21408bad-0285-43ca-93cb-6db76cfc2cb0",
   "metadata": {},
   "source": [
    "## Import necessary libraries and initialize Reddit object with Reddit developer credentials"
   ]
  },
  {
   "cell_type": "code",
   "execution_count": null,
   "id": "c9967794-a1a1-478c-b5d0-47fd5e1f2f24",
   "metadata": {},
   "outputs": [],
   "source": [
    "import pandas as pd\n",
    "import praw\n",
    "import time\n",
    "\n",
    "# Enter your credentials here\n",
    "reddit = praw.Reddit(\n",
    "    client_id = \"my-client-id\",\n",
    "    client_secret = \"my-client-secret\",\n",
    "    password = \"my-password\",\n",
    "    user_agent = \"my-user-agent\",\n",
    "    username = \"my-username\",\n",
    ")"
   ]
  },
  {
   "cell_type": "markdown",
   "id": "67ef357b-6e44-49b1-b550-1c38dbd63ded",
   "metadata": {},
   "source": [
    "## Set search criteria"
   ]
  },
  {
   "cell_type": "code",
   "execution_count": null,
   "id": "25070f92-41a2-4362-8c51-fbfc2a0c999f",
   "metadata": {},
   "outputs": [],
   "source": [
    "# All sort methods and time filters provided by Reddit\n",
    "sort = [\"relevance\", \"hot\", \"top\", \"new\", \"comments\"] \n",
    "past = [\"all\", \"day\", \"hour\", \"month\", \"week\", \"year\"]\n",
    "\n",
    "# Subreddit name\n",
    "sub = \"sgexams\"\n",
    "\n",
    "# Maximum number of search results; PRAW allows up to 1000\n",
    "limit = 1000\n",
    "\n",
    "# Date / time constraints in Unix time\n",
    "after = 1546272000 # Jan 1 2019 \n",
    "before = 1000000000000000000 \n",
    "\n",
    "# Load your search keywords here\n",
    "word_set = []  "
   ]
  },
  {
   "cell_type": "markdown",
   "id": "8769fb98-d961-4007-ba19-035cead12293",
   "metadata": {},
   "source": [
    "## Retrieve unique IDs of posts"
   ]
  },
  {
   "cell_type": "code",
   "execution_count": null,
   "id": "fc082444-94bc-47e6-a95b-57c67733f3d0",
   "metadata": {},
   "outputs": [],
   "source": [
    "ids = set()\n",
    "for word in word_set:\n",
    "    cur = len(ids)\n",
    "    print(word)\n",
    "    for s in sort:\n",
    "        for p in past:\n",
    "            try:\n",
    "                part = reddit.subreddit(sub).search(word, sort=s, limit=limit, time_filter = p)\n",
    "                for post in part:\n",
    "                    if post.created_utc < after or post.created_utc > before:\n",
    "                        continue\n",
    "                    ids.add(post.id)\n",
    "            except:\n",
    "                    print(\"Rate limit, waiting 60 seconds\")\n",
    "                    time.sleep(60)\n",
    "    print(f\"New IDs found: {len(ids)-cur}\")"
   ]
  },
  {
   "cell_type": "markdown",
   "id": "7f4e46b6-00b5-474c-9c4e-d6123996a16c",
   "metadata": {},
   "source": [
    "## Use unique IDs to retrieve post/comment attributes"
   ]
  },
  {
   "cell_type": "code",
   "execution_count": null,
   "id": "03c1401f-d288-423b-ad0a-8552536b8ffe",
   "metadata": {},
   "outputs": [],
   "source": [
    "id_arr = list(ids)\n",
    "post_df = pd.DataFrame()\n",
    "comment_df = pd.DataFrame()"
   ]
  },
  {
   "cell_type": "markdown",
   "id": "b72d9164-3443-4d22-b603-2d9a3d357bd0",
   "metadata": {},
   "source": [
    "### Break the ID array into subsets of 1000 each to avoid exceeding rate limit\n",
    "#### Run the cell below repeatedly until IndexError is thrown"
   ]
  },
  {
   "cell_type": "code",
   "execution_count": null,
   "id": "283df765-5ef4-43ed-a30b-096a9442d98e",
   "metadata": {},
   "outputs": [],
   "source": [
    "post_data = []\n",
    "comment_data = []\n",
    "\n",
    "for i in range(1000):\n",
    "    post = reddit.submission(id_arr[i+len(post_df)])\n",
    "    try:\n",
    "        name = post.author.name if post.author else None\n",
    "    except:\n",
    "        print(\"Replace name error, waiting 10 seconds\")\n",
    "        time.sleep(10)\n",
    "        \n",
    "    post_data.append({\n",
    "            'id': post.name, 'title': post.title,\n",
    "            'body': post.selftext, 'flair': post.link_flair_text, 'created_utc': post.created_utc,\n",
    "            'author': name,\n",
    "            'score': post.score, 'upvote_ratio': post.upvote_ratio, 'num_comments': post.num_comments\n",
    "        })\n",
    "    \n",
    "    try:\n",
    "        post.comments.replace_more(limit=None) \n",
    "    except:\n",
    "        print(\"Replace more error, waiting 60 seconds\")\n",
    "        time.sleep(60)\n",
    "        \n",
    "    for comment in post.comments.list():   \n",
    "        if isinstance(comment, praw.models.reddit.more.MoreComments):\n",
    "            continue \n",
    "        name = comment.author.name if comment.author else None\n",
    "        comment_data.append({\n",
    "            'id': comment.name, 'parent_id': comment.parent_id,\n",
    "            'body': comment.body, 'link_id': comment.link_id, 'created_utc': comment.created_utc,\n",
    "            'author': name,\n",
    "            'score': comment.score, \"is_op\": comment.is_submitter\n",
    "        })\n",
    "        \n",
    "post_df1 = pd.DataFrame(post_data)\n",
    "comment_df1 = pd.DataFrame(comment_data)\n",
    "\n",
    "post_df = pd.concat([post_df, post_df1])\n",
    "comment_df = pd.concat([comment_df, comment_df1])\n",
    "\n",
    "print(\"Posts: \", post_df.shape)\n",
    "print(\"Comments: \", comment_df.shape)"
   ]
  },
  {
   "cell_type": "markdown",
   "id": "472b94d2-21ef-4a5a-92e9-26e6fefa47c5",
   "metadata": {},
   "source": [
    "## Save posts and comments datasets as .csv"
   ]
  },
  {
   "cell_type": "code",
   "execution_count": null,
   "id": "68fc5e3a-f6d6-4be7-b91d-acd68463cb7d",
   "metadata": {},
   "outputs": [],
   "source": [
    "post_df.to_csv(\"Datasets/sgexams_posts.csv\")\n",
    "comment_df.to_csv(\"Datasets/sgexams_comments.csv\")"
   ]
  }
 ],
 "metadata": {
  "kernelspec": {
   "display_name": "Python 3 (ipykernel)",
   "language": "python",
   "name": "python3"
  },
  "language_info": {
   "codemirror_mode": {
    "name": "ipython",
    "version": 3
   },
   "file_extension": ".py",
   "mimetype": "text/x-python",
   "name": "python",
   "nbconvert_exporter": "python",
   "pygments_lexer": "ipython3",
   "version": "3.11.9"
  }
 },
 "nbformat": 4,
 "nbformat_minor": 5
}
